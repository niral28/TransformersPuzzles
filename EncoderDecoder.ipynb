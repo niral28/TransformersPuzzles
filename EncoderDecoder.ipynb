{
  "nbformat": 4,
  "nbformat_minor": 0,
  "metadata": {
    "colab": {
      "provenance": [],
      "gpuType": "T4",
      "authorship_tag": "ABX9TyOTYH/dwKrVtdW/sN1Qrp7r",
      "include_colab_link": true
    },
    "kernelspec": {
      "name": "python3",
      "display_name": "Python 3"
    },
    "language_info": {
      "name": "python"
    },
    "accelerator": "GPU"
  },
  "cells": [
    {
      "cell_type": "markdown",
      "metadata": {
        "id": "view-in-github",
        "colab_type": "text"
      },
      "source": [
        "<a href=\"https://colab.research.google.com/github/niral28/TransformersPuzzles/blob/main/EncoderDecoder.ipynb\" target=\"_parent\"><img src=\"https://colab.research.google.com/assets/colab-badge.svg\" alt=\"Open In Colab\"/></a>"
      ]
    },
    {
      "cell_type": "code",
      "execution_count": 1,
      "metadata": {
        "colab": {
          "base_uri": "https://localhost:8080/"
        },
        "id": "337uhtiS74dd",
        "outputId": "200c2918-8bd0-4638-ff5f-cc394a60a905"
      },
      "outputs": [
        {
          "output_type": "stream",
          "name": "stdout",
          "text": [
            "Requirement already satisfied: tiktoken in /usr/local/lib/python3.10/dist-packages (0.8.0)\n",
            "Requirement already satisfied: regex>=2022.1.18 in /usr/local/lib/python3.10/dist-packages (from tiktoken) (2024.11.6)\n",
            "Requirement already satisfied: requests>=2.26.0 in /usr/local/lib/python3.10/dist-packages (from tiktoken) (2.32.3)\n",
            "Requirement already satisfied: charset-normalizer<4,>=2 in /usr/local/lib/python3.10/dist-packages (from requests>=2.26.0->tiktoken) (3.4.0)\n",
            "Requirement already satisfied: idna<4,>=2.5 in /usr/local/lib/python3.10/dist-packages (from requests>=2.26.0->tiktoken) (3.10)\n",
            "Requirement already satisfied: urllib3<3,>=1.21.1 in /usr/local/lib/python3.10/dist-packages (from requests>=2.26.0->tiktoken) (2.2.3)\n",
            "Requirement already satisfied: certifi>=2017.4.17 in /usr/local/lib/python3.10/dist-packages (from requests>=2.26.0->tiktoken) (2024.12.14)\n"
          ]
        },
        {
          "output_type": "execute_result",
          "data": {
            "text/plain": [
              "<torch._C.Generator at 0x7e5a75a56ff0>"
            ]
          },
          "metadata": {},
          "execution_count": 1
        }
      ],
      "source": [
        "import torch\n",
        "import torch.nn as nn\n",
        "\n",
        "!pip install tiktoken\n",
        "import tiktoken\n",
        "tokenizer = tiktoken.encoding_for_model('gpt2')\n",
        "\n",
        "torch.manual_seed(1337)"
      ]
    },
    {
      "cell_type": "code",
      "source": [
        "device = 'cuda' if torch.cuda.is_available() else 'cpu'"
      ],
      "metadata": {
        "id": "pVJdO2Dr8XjK"
      },
      "execution_count": 2,
      "outputs": []
    },
    {
      "cell_type": "code",
      "source": [
        "class SelfAttention(nn.Module):\n",
        "  def __init__(self, embedding_dim:int, attention_dim: int, dropout=0.2):\n",
        "    super().__init__()\n",
        "    self.key_gen = nn.Linear(embedding_dim, attention_dim, bias=False) # Embedding Dim x Attention Dim\n",
        "    self.query_gen = nn.Linear(embedding_dim, attention_dim, bias=False)\n",
        "    self.value_gen = nn.Linear(embedding_dim, attention_dim, bias=False)\n",
        "    self.dropout = nn.Dropout(dropout)\n",
        "\n",
        "  def forward(self, keys, query, value, src_mask=None):\n",
        "    K = self.key_gen(keys) # Batch Size X Context Length X Embedding\n",
        "    Q = self.query_gen(query)\n",
        "    V = self.value_gen(value)\n",
        "    # print(f'Keys shape: {K.shape}')\n",
        "    # print(f'Query shape: {Q.shape}')\n",
        "    # print(f'Value shape: {V.shape}')\n",
        "    B,T2,C = K.shape\n",
        "    B,T1,C = Q.shape\n",
        "\n",
        "\n",
        "    scores = Q @ torch.transpose(K, 1, 2) # Batch Size X Context Length X Context Length\n",
        "    # context_length, attention_dim = K.shape[1], K.shape[2] # Assuming Embedding Dim and Attention Dim are the same\n",
        "    scores =  scores * (C**-0.5)\n",
        "    if src_mask is None:\n",
        "      # print(f'Scores size: {scores.shape}, T1 {T1}, T2 {T2}')\n",
        "      lower_triangular = torch.tril(torch.ones(T1, T2)) # T x T\n",
        "      lower_triangular = lower_triangular.to(device)\n",
        "      scores = scores.masked_fill(lower_triangular[:T1, :T2] == 0, float('-inf'))\n",
        "    elif src_mask is not None:\n",
        "      # print(f'Scores size: {scores.shape}')\n",
        "      scores = scores.masked_fill(src_mask == 0, float('-inf'))\n",
        "    scores = nn.functional.softmax(scores, dim=-1)\n",
        "    scores = self.dropout(scores)\n",
        "    return scores @ V # Tx A matrix\n",
        "\n",
        "class MultiHeadAttention(nn.Module):\n",
        "  def __init__(self, num_heads: int, embed_size:int, attention_dim: int, dropout=0.2):\n",
        "    super().__init__()\n",
        "    self.head_size = attention_dim // num_heads\n",
        "    self.heads = nn.ModuleList([SelfAttention(embed_size, self.head_size) for i in range(num_heads)])\n",
        "    self.proj = nn.Linear(embed_size, embed_size)\n",
        "    self.dropout = nn.Dropout(dropout)\n",
        "\n",
        "  def forward(self, keys, query, value, src_mask=None):\n",
        "    # Merge all the attention heads\n",
        "    out = torch.cat([self.heads[i](keys, query, value, src_mask=src_mask) for i in range(len(self.heads))], dim=-1)\n",
        "    out = self.dropout(self.proj(out))\n",
        "    return out\n",
        "\n",
        "\n",
        "class FeedForwardNetwork(nn.Module):\n",
        "  def __init__(self, embed_size, forward_expansion, dropout=0.2):\n",
        "    super().__init__()\n",
        "    self.feed_forward = nn.Sequential(\n",
        "        nn.Linear(embed_size, forward_expansion*embed_size),\n",
        "        nn.ReLU(),\n",
        "        nn.Linear(forward_expansion*embed_size, embed_size)\n",
        "    )\n",
        "    self.dropout = nn.Dropout(dropout)\n",
        "\n",
        "  def forward(self, embedding):\n",
        "    return self.dropout(self.feed_forward(embedding))\n"
      ],
      "metadata": {
        "id": "Wu4gfiRV8NCE"
      },
      "execution_count": 3,
      "outputs": []
    },
    {
      "cell_type": "code",
      "source": [
        "class EncoderBlock(nn.Module):\n",
        "  def __init__(self, model_dim: int, num_heads: int, dropout=0.2):\n",
        "    super().__init__()\n",
        "    self.multihead_attn = MultiHeadAttention(num_heads, model_dim, model_dim)\n",
        "    self.feed_forward = FeedForwardNetwork(model_dim, 4, dropout=dropout)\n",
        "    self.norm1 = nn.LayerNorm(model_dim)\n",
        "    self.norm2 = nn.LayerNorm(model_dim)\n",
        "\n",
        "  def forward(self, embedding, src_mask):\n",
        "    # print('here3')\n",
        "    # if src_mask is not None:\n",
        "    #   print(f'src_mask_shape:{src_mask.shape}')\n",
        "    embedded = embedding + self.multihead_attn(self.norm1(embedding), self.norm1(embedding), self.norm1(embedding), src_mask=src_mask)\n",
        "    embedded = embedded + self.feed_forward(self.norm2(embedded))\n",
        "    return embedded\n",
        "\n",
        "class Encoder(nn.Module):\n",
        "  def __init__(self, vocab_size: int, context_length:int, model_dim: int, num_heads: int, num_blocks: int, dropout:int):\n",
        "    super().__init__()\n",
        "    self.word_embedding = nn.Embedding(vocab_size, model_dim)\n",
        "    self.positional_embedding = nn.Embedding(context_length, model_dim)\n",
        "    self.transformer_block = nn.ModuleList([\n",
        "        EncoderBlock(num_heads=num_heads, model_dim=model_dim, dropout=dropout) for _ in range(num_blocks)\n",
        "    ])\n",
        "\n",
        "  def forward(self, context, src_mask):\n",
        "    # print('here2')\n",
        "    T = context.shape[1] # B x T x 1 (tokenized input)\n",
        "    positions = torch.arange(T, device=device) # create a list from 0 -> context length\n",
        "    embedding = self.word_embedding(context)+self.positional_embedding(positions)\n",
        "    for layer in self.transformer_block:\n",
        "      embedding = layer(embedding, src_mask=src_mask)\n",
        "    return embedding\n",
        "\n",
        "class DecoderBlock(nn.Module):\n",
        "  def __init__(self, model_dim: int, num_heads: int, dropout=0.2):\n",
        "    super().__init__()\n",
        "    self.masked_multihead_attn = MultiHeadAttention(num_heads, model_dim, model_dim, dropout=dropout)\n",
        "    self.multihead_attn = MultiHeadAttention(num_heads, model_dim, model_dim, dropout=dropout)\n",
        "    self.feed_forward = FeedForwardNetwork(model_dim, 4, dropout=dropout)\n",
        "    self.norm1 = nn.LayerNorm(model_dim)\n",
        "    self.norm2 = nn.LayerNorm(model_dim)\n",
        "\n",
        "  def forward(self, embedding, value, key, src_mask=None):\n",
        "    # print('Masked Multi Head Attention')\n",
        "    query = embedding + self.masked_multihead_attn(self.norm1(embedding), self.norm1(embedding), self.norm1(embedding), src_mask=None)\n",
        "    # print('End Masked Multi Head Attention')\n",
        "    # print()\n",
        "    # print('Start multi-head attn')\n",
        "    out = self.multihead_attn(query=self.norm2(query), value=value, keys=key, src_mask=None)\n",
        "    # print('End multi-head attn')\n",
        "    out = out + self.feed_forward(self.norm2(out))\n",
        "    return out\n",
        "\n",
        "\n",
        "class Decoder(nn.Module):\n",
        "  def __init__(self, vocab_size: int, context_length:int, model_dim: int, num_heads: int, num_blocks: int, dropout=0.2):\n",
        "    super().__init__()\n",
        "    self.word_embedding = nn.Embedding(vocab_size, model_dim)\n",
        "    self.positional_embedding = nn.Embedding(context_length, model_dim)\n",
        "    self.transformer_block = nn.ModuleList([\n",
        "        DecoderBlock(num_heads=num_heads, model_dim=model_dim, dropout=dropout) for _ in range(num_blocks)\n",
        "    ])\n",
        "\n",
        "  def forward(self, context, encoder_output):\n",
        "    T = context.shape[1] # B x T x 1 (tokenized input)\n",
        "    positions = torch.arange(T, device=device) # create a list from 0 -> context length\n",
        "    embedding = self.word_embedding(context)+self.positional_embedding(positions)\n",
        "    for layer in self.transformer_block:\n",
        "      embedding = layer(embedding, encoder_output, encoder_output)\n",
        "    return embedding\n",
        "\n",
        "\n",
        "class EncoderDecoderTransformer(nn.Module):\n",
        "  def __init__(self, src_vocab_size: int, trg_vocab_size:int, context_length:int, model_dim: int, num_heads: int, num_blocks: int, dropout:int, src_pad_idx=0) -> None:\n",
        "    super().__init__()\n",
        "    self.src_pad_idx = src_pad_idx\n",
        "    self.encoder = Encoder(src_vocab_size, context_length, model_dim, num_heads, num_blocks, dropout)\n",
        "    self.decoder = Decoder(trg_vocab_size, context_length, model_dim, num_heads, num_blocks, dropout)\n",
        "    self.linear = nn.Linear(model_dim, trg_vocab_size)\n",
        "    self.finalLayerNorm = nn.LayerNorm(model_dim) # this is recommended by researchers as it results in a more stable training\n",
        "\n",
        "  def make_src_mask(self, src):\n",
        "      src_mask = (src != self.src_pad_idx).unsqueeze(1)\n",
        "      # print(f'Src mask size {src_mask.shape}')\n",
        "      return src_mask.to(device)\n",
        "\n",
        "  def forward(self, src_context, target_context, targets=None):\n",
        "    src_mask = self.make_src_mask(src_context)\n",
        "    # print('Start Encoder')\n",
        "    encoder_output = self.encoder(src_context, src_mask)\n",
        "    # print('End Encoder')\n",
        "    # print()\n",
        "    # print('Start Decoder')\n",
        "    output = self.decoder(target_context, encoder_output)\n",
        "    # print('End Decoder')\n",
        "    logits = self.linear(self.finalLayerNorm(output))\n",
        "    if targets is None:\n",
        "      loss = None\n",
        "    else:\n",
        "      B, T, C = logits.shape\n",
        "      try:\n",
        "        loss = nn.functional.cross_entropy(logits.view(B*T, C), targets.view(B*T))\n",
        "      except Exception as e:\n",
        "        # print(logits.shape)\n",
        "        # print(logits)\n",
        "        raise e\n",
        "    return logits, loss\n",
        "\n"
      ],
      "metadata": {
        "id": "6HrXvJsc7-Tz"
      },
      "execution_count": 4,
      "outputs": []
    },
    {
      "cell_type": "code",
      "source": [
        "  src_pad_idx = 0\n",
        "  trg_pad_idx = 0\n",
        "  src_vocab_size = 10\n",
        "  trg_vocab_size = 10\n",
        "  model_dim = 256\n",
        "  num_blocks=6\n",
        "  num_heads = 8 # 256/8 = 32\n",
        "  dropout = 0\n",
        "  context_length=100\n",
        "  device = 'cuda' if torch.cuda.is_available() else 'cpu'\n",
        "\n",
        "  model = EncoderDecoderTransformer(src_vocab_size, trg_vocab_size, context_length, model_dim, num_heads, num_blocks, dropout, src_pad_idx=src_pad_idx)\n",
        "  m = model.to(device)\n",
        "  x = torch.tensor([[1, 5, 6, 4, 3, 9, 5, 2, 0], [1, 8, 7, 3, 4, 5, 6, 7, 2]], dtype=torch.long).to(device)\n",
        "  trg = torch.tensor([[1, 7, 4, 3, 5, 9, 2, 0], [1, 5, 6, 2, 4, 7, 6, 2]], dtype=torch.long).to(device)\n",
        "\n"
      ],
      "metadata": {
        "id": "vQNYaSusMJzn"
      },
      "execution_count": 5,
      "outputs": []
    },
    {
      "cell_type": "code",
      "source": [
        "  out = model(x, trg[:, :-1])\n",
        "  print(out[0].shape)"
      ],
      "metadata": {
        "colab": {
          "base_uri": "https://localhost:8080/"
        },
        "id": "FbpESbaWNTUc",
        "outputId": "4cf4774c-80cf-4932-8562-2c94a628dc7b"
      },
      "execution_count": 6,
      "outputs": [
        {
          "output_type": "stream",
          "name": "stdout",
          "text": [
            "torch.Size([2, 7, 10])\n"
          ]
        }
      ]
    },
    {
      "cell_type": "code",
      "source": [
        "import zipfile"
      ],
      "metadata": {
        "id": "eeRgh6MBkKV6"
      },
      "execution_count": 7,
      "outputs": []
    },
    {
      "cell_type": "code",
      "source": [
        "# !wget -c http://www.manythings.org/anki/fra-eng.zip\n",
        "with zipfile.ZipFile('fra-eng.zip', 'r') as f:\n",
        "  raw_text = f.read('fra.txt').decode(\"utf-8\")"
      ],
      "metadata": {
        "id": "0LTvqCr7NZJ0"
      },
      "execution_count": 8,
      "outputs": []
    },
    {
      "cell_type": "code",
      "source": [
        "import csv"
      ],
      "metadata": {
        "id": "kow_0FnPkUsT"
      },
      "execution_count": 9,
      "outputs": []
    },
    {
      "cell_type": "code",
      "source": [
        "def preprocess_raw(text):\n",
        "  text = text.replace('\\u202f', ' ').replace('\\xa0', ' ')\n",
        "  out = ''\n",
        "  for i, char in enumerate(text.lower()):\n",
        "    if char in (',', '!', '.') and i > 0 and text[i-1] != ' ':\n",
        "      out += ' '\n",
        "    out += char\n",
        "  return out"
      ],
      "metadata": {
        "id": "h2LZoz83kYrX"
      },
      "execution_count": 10,
      "outputs": []
    },
    {
      "cell_type": "code",
      "source": [
        "csvreader = csv.reader(raw_text.split('\\n'), delimiter='\\t')\n",
        "english = []\n",
        "french = []\n",
        "for line in csvreader:\n",
        "  try:\n",
        "    english.append([preprocess_raw(line[0])])\n",
        "    french.append([preprocess_raw(line[1])])\n",
        "  except:\n",
        "    print(line)"
      ],
      "metadata": {
        "colab": {
          "base_uri": "https://localhost:8080/"
        },
        "id": "4daNXoEEkayC",
        "outputId": "faa83c03-b519-4dc0-e6f1-1994b52c3a02"
      },
      "execution_count": 11,
      "outputs": [
        {
          "output_type": "stream",
          "name": "stdout",
          "text": [
            "[]\n"
          ]
        }
      ]
    },
    {
      "cell_type": "code",
      "source": [
        "assert len(english) == len(french)"
      ],
      "metadata": {
        "id": "DABi2EVrksuz"
      },
      "execution_count": 12,
      "outputs": []
    },
    {
      "cell_type": "code",
      "source": [
        "english[200]"
      ],
      "metadata": {
        "colab": {
          "base_uri": "https://localhost:8080/"
        },
        "id": "y9KBC2vflukS",
        "outputId": "61e286cd-3f43-4e5c-edbe-63aea4c32254"
      },
      "execution_count": 13,
      "outputs": [
        {
          "output_type": "execute_result",
          "data": {
            "text/plain": [
              "['beat it .']"
            ]
          },
          "metadata": {},
          "execution_count": 13
        }
      ]
    },
    {
      "cell_type": "code",
      "source": [
        "french[200]"
      ],
      "metadata": {
        "colab": {
          "base_uri": "https://localhost:8080/"
        },
        "id": "6CFxEv-Gl1-g",
        "outputId": "77d5d0d6-9217-4790-f7c4-cae00dd4a517"
      },
      "execution_count": 14,
      "outputs": [
        {
          "output_type": "execute_result",
          "data": {
            "text/plain": [
              "['casse-toi de là .']"
            ]
          },
          "metadata": {},
          "execution_count": 14
        }
      ]
    },
    {
      "cell_type": "code",
      "source": [],
      "metadata": {
        "id": "dDA_qaK6mvC5"
      },
      "execution_count": 14,
      "outputs": []
    },
    {
      "cell_type": "code",
      "source": [],
      "metadata": {
        "id": "FiEN-HPWnI_A"
      },
      "execution_count": 14,
      "outputs": []
    },
    {
      "cell_type": "code",
      "source": [
        "english_tokens = [tokenizer.encode(sentence[0]) for sentence in english]\n",
        "french_tokens = [tokenizer.encode(sentence[0]) for sentence in french]"
      ],
      "metadata": {
        "id": "TnhHDA6foABA"
      },
      "execution_count": 15,
      "outputs": []
    },
    {
      "cell_type": "code",
      "source": [
        "import matplotlib.pyplot as plt\n",
        "\n",
        "plt.hist([len(token) for token in english_tokens])\n",
        "plt.xlim([0, 20])\n",
        "plt.plot()"
      ],
      "metadata": {
        "colab": {
          "base_uri": "https://localhost:8080/",
          "height": 448
        },
        "id": "BX3DhKNqoDF9",
        "outputId": "09d33b64-ce30-4043-eeab-e8f7b108abad"
      },
      "execution_count": 16,
      "outputs": [
        {
          "output_type": "execute_result",
          "data": {
            "text/plain": [
              "[]"
            ]
          },
          "metadata": {},
          "execution_count": 16
        },
        {
          "output_type": "display_data",
          "data": {
            "text/plain": [
              "<Figure size 640x480 with 1 Axes>"
            ],
            "image/png": "[encoded data removed]"
          },
          "metadata": {}
        }
      ]
    },
    {
      "cell_type": "code",
      "source": [
        "english_tokens[0]"
      ],
      "metadata": {
        "colab": {
          "base_uri": "https://localhost:8080/"
        },
        "id": "NGAwz5MvoN9p",
        "outputId": "d44758fe-831e-481a-d005-75f6894f7222"
      },
      "execution_count": 17,
      "outputs": [
        {
          "output_type": "execute_result",
          "data": {
            "text/plain": [
              "[2188, 764]"
            ]
          },
          "metadata": {},
          "execution_count": 17
        }
      ]
    },
    {
      "cell_type": "code",
      "source": [
        "plt.hist([len(token) for token in french_tokens])\n",
        "plt.xlim([0, 20])\n",
        "plt.plot()"
      ],
      "metadata": {
        "colab": {
          "base_uri": "https://localhost:8080/",
          "height": 448
        },
        "id": "4ZDRhrWXobh7",
        "outputId": "2e23cd31-a307-43c6-a4fa-87e865ea4959"
      },
      "execution_count": 18,
      "outputs": [
        {
          "output_type": "execute_result",
          "data": {
            "text/plain": [
              "[]"
            ]
          },
          "metadata": {},
          "execution_count": 18
        },
        {
          "output_type": "display_data",
          "data": {
            "text/plain": [
              "<Figure size 640x480 with 1 Axes>"
            ],
            "image/png": "[encoded data removed]"
          },
          "metadata": {}
        }
      ]
    },
    {
      "cell_type": "code",
      "source": [
        "max_length = 20"
      ],
      "metadata": {
        "id": "cRIRancooyOk"
      },
      "execution_count": 19,
      "outputs": []
    },
    {
      "cell_type": "code",
      "source": [
        "def pad(line, max_len, padding_token):\n",
        "  if len(line) > max_len:\n",
        "    return line[:max_len]\n",
        "  return line + [padding_token] * (max_len - len(line))\n"
      ],
      "metadata": {
        "id": "e7CxV_89pLku"
      },
      "execution_count": 20,
      "outputs": []
    },
    {
      "cell_type": "code",
      "source": [
        "# Define a padding token (using <|endoftext|> in this example)\n",
        "PADDING_TOKEN_ID = tokenizer.encode(\"<|endoftext|>\", allowed_special={\"<|endoftext|>\"})[0]\n",
        "EOS_OR_BOS_TOKEN_ID = tokenizer.encode(\"<|endoftext|>\", allowed_special={\"<|endoftext|>\"})[0]\n"
      ],
      "metadata": {
        "id": "PBZMm25mpVBC"
      },
      "execution_count": 21,
      "outputs": []
    },
    {
      "cell_type": "code",
      "source": [],
      "metadata": {
        "id": "Gcoz0sl-pYtM"
      },
      "execution_count": 21,
      "outputs": []
    },
    {
      "cell_type": "code",
      "source": [
        "def build_array(lines, max_len, is_source):\n",
        "  if not is_source:\n",
        "    lines = [[EOS_OR_BOS_TOKEN_ID] + line + [EOS_OR_BOS_TOKEN_ID] for line in lines]\n",
        "  array = torch.tensor([pad(line, max_len, PADDING_TOKEN_ID) for line in lines], dtype=torch.long)\n",
        "  valid_len = (array != PADDING_TOKEN_ID).sum(1)\n",
        "  return array, valid_len"
      ],
      "metadata": {
        "id": "LD2jIdiJpeqA"
      },
      "execution_count": 22,
      "outputs": []
    },
    {
      "cell_type": "code",
      "source": [
        "source_english_tokens = build_array(english_tokens, 20, is_source=True)"
      ],
      "metadata": {
        "id": "Gj-cGB7bsLa3"
      },
      "execution_count": 23,
      "outputs": []
    },
    {
      "cell_type": "code",
      "source": [
        "source_english_tokens[0].shape"
      ],
      "metadata": {
        "colab": {
          "base_uri": "https://localhost:8080/"
        },
        "id": "Nvp-dwsQsSiR",
        "outputId": "741d858a-655c-4738-85c3-794b1c161efa"
      },
      "execution_count": 24,
      "outputs": [
        {
          "output_type": "execute_result",
          "data": {
            "text/plain": [
              "torch.Size([232736, 20])"
            ]
          },
          "metadata": {},
          "execution_count": 24
        }
      ]
    },
    {
      "cell_type": "code",
      "source": [
        "target_french_tokens = build_array(french_tokens, 20, is_source=False)"
      ],
      "metadata": {
        "id": "JJgmqSwXsWVH"
      },
      "execution_count": 25,
      "outputs": []
    },
    {
      "cell_type": "code",
      "source": [
        "len(target_french_tokens[0][0])"
      ],
      "metadata": {
        "colab": {
          "base_uri": "https://localhost:8080/"
        },
        "id": "GSIuCyyGsos4",
        "outputId": "b724dba9-cac4-424e-ef2f-3a765c3c32fd"
      },
      "execution_count": 26,
      "outputs": [
        {
          "output_type": "execute_result",
          "data": {
            "text/plain": [
              "20"
            ]
          },
          "metadata": {},
          "execution_count": 26
        }
      ]
    },
    {
      "cell_type": "code",
      "source": [
        "n = int(0.9*len(target_french_tokens[0])) # first 90% will be train, rest val\n",
        "train_targets = target_french_tokens[0][:n]\n",
        "val_targets = target_french_tokens[0][n:]\n",
        "train_sources = source_english_tokens[0][:n]\n",
        "val_sources = source_english_tokens[0][n:]\n",
        "data = {\n",
        "    'train': {\n",
        "        'source': train_sources,\n",
        "        'target': train_targets\n",
        "    },\n",
        "    'val': {\n",
        "        'source': val_sources,\n",
        "        'target': val_targets\n",
        "    }\n",
        "}\n"
      ],
      "metadata": {
        "id": "u92MGSOusuFE"
      },
      "execution_count": 27,
      "outputs": []
    },
    {
      "cell_type": "code",
      "source": [
        "src_vocab_size = tokenizer.n_vocab + 1\n",
        "trg_vocab_size = tokenizer.n_vocab + 1\n",
        "\n",
        "model_dim = 256\n",
        "\n",
        "num_blocks=6\n",
        "num_heads = 8 # 256/8 = 32\n",
        "dropout = 0\n",
        "\n",
        "\n",
        "eval_interval = 100\n",
        "learning_rate = 1e-3\n",
        "eval_iters = 200\n",
        "context_length = 20\n",
        "\n",
        "\n",
        "batch_size = 16\n",
        "model = EncoderDecoderTransformer(src_vocab_size, trg_vocab_size, context_length, model_dim, num_heads, num_blocks, dropout, src_pad_idx=PADDING_TOKEN_ID)\n",
        "m = model.to(device)"
      ],
      "metadata": {
        "id": "7Tp_cOgss_EZ"
      },
      "execution_count": 28,
      "outputs": []
    },
    {
      "cell_type": "code",
      "source": [
        "x = torch.stack([data['train']['source'][0], data['train']['source'][1]]).to(device)\n",
        "trg = torch.stack([data['train']['target'][0], data['train']['target'][1]]).to(device)\n",
        "\n",
        "print(x)\n",
        "print(trg)"
      ],
      "metadata": {
        "colab": {
          "base_uri": "https://localhost:8080/"
        },
        "id": "bBFJHi-zvKcf",
        "outputId": "d4021f0b-f84c-4a73-a2d7-167e58a907f1"
      },
      "execution_count": 29,
      "outputs": [
        {
          "output_type": "stream",
          "name": "stdout",
          "text": [
            "tensor([[ 2188,   764, 50256, 50256, 50256, 50256, 50256, 50256, 50256, 50256,\n",
            "         50256, 50256, 50256, 50256, 50256, 50256, 50256, 50256, 50256, 50256],\n",
            "        [ 2188,   764, 50256, 50256, 50256, 50256, 50256, 50256, 50256, 50256,\n",
            "         50256, 50256, 50256, 50256, 50256, 50256, 50256, 50256, 50256, 50256]],\n",
            "       device='cuda:0')\n",
            "tensor([[50256,  6862,  5145, 50256, 50256, 50256, 50256, 50256, 50256, 50256,\n",
            "         50256, 50256, 50256, 50256, 50256, 50256, 50256, 50256, 50256, 50256],\n",
            "        [50256,  3876,  2395,   764, 50256, 50256, 50256, 50256, 50256, 50256,\n",
            "         50256, 50256, 50256, 50256, 50256, 50256, 50256, 50256, 50256, 50256]],\n",
            "       device='cuda:0')\n"
          ]
        }
      ]
    },
    {
      "cell_type": "code",
      "source": [
        "data['train']['source'][0].shape"
      ],
      "metadata": {
        "colab": {
          "base_uri": "https://localhost:8080/"
        },
        "id": "Iagqhh7Fwbwm",
        "outputId": "94f43dbb-8515-4c63-ddd8-4ccb666e6b54"
      },
      "execution_count": 30,
      "outputs": [
        {
          "output_type": "execute_result",
          "data": {
            "text/plain": [
              "torch.Size([20])"
            ]
          },
          "metadata": {},
          "execution_count": 30
        }
      ]
    },
    {
      "cell_type": "code",
      "source": [
        "out = model(x, trg[:, :-1])\n",
        "print(out[0])"
      ],
      "metadata": {
        "colab": {
          "base_uri": "https://localhost:8080/"
        },
        "id": "FX50tWe9wh9z",
        "outputId": "c2fe3d97-c26d-4ad6-cc61-6bf221074aef"
      },
      "execution_count": 31,
      "outputs": [
        {
          "output_type": "stream",
          "name": "stdout",
          "text": [
            "tensor([[[-0.4312, -0.1402, -0.4963,  ..., -0.8133,  0.3627,  0.2460],\n",
            "         [ 0.1908,  0.2890,  0.1017,  ..., -0.5134, -0.2855, -0.3214],\n",
            "         [-0.1899,  0.6983, -0.2264,  ..., -0.6400,  0.8956, -0.0718],\n",
            "         ...,\n",
            "         [ 0.3714,  0.2383, -0.6500,  ..., -0.7064, -0.6416, -0.1030],\n",
            "         [ 0.3381,  0.4696, -0.7466,  ..., -0.7122, -0.5319, -0.2513],\n",
            "         [ 0.6496,  0.2278, -0.6836,  ..., -0.7015, -0.6838, -0.0694]],\n",
            "\n",
            "        [[-0.5693, -0.1457, -0.2523,  ..., -0.3350,  0.1142,  0.0171],\n",
            "         [ 0.4615,  0.2243,  0.3960,  ..., -0.5423, -0.2541, -0.3678],\n",
            "         [ 0.2399, -0.0903,  0.1003,  ..., -0.9638, -0.5281, -0.0558],\n",
            "         ...,\n",
            "         [ 0.2424,  0.4331, -0.6417,  ..., -0.6799, -0.6046,  0.1011],\n",
            "         [ 0.4753,  0.4916, -0.7281,  ..., -0.7596, -0.4643,  0.0902],\n",
            "         [ 0.5850,  0.2520, -0.8098,  ..., -0.7809, -0.7187,  0.0495]]],\n",
            "       device='cuda:0', grad_fn=<ViewBackward0>)\n"
          ]
        }
      ]
    },
    {
      "cell_type": "code",
      "source": [
        "def get_batch(split: str, context_length:int, batch_size: int, device:str):\n",
        "  d = data[split]\n",
        "  starting_idx = torch.randint(0, len(d['source'])-batch_size, (batch_size,))\n",
        "  x = torch.stack([d['source'][idx] for idx in starting_idx])\n",
        "  # print(x.shape)\n",
        "  y = torch.stack([d['target'][idx] for idx in starting_idx])\n",
        "  # print(y.shape)\n",
        "  # print()\n",
        "  x, y = x.to(device), y.to(device)\n",
        "  return x,y\n",
        "\n",
        "@torch.no_grad()\n",
        "def estimate_loss(model):\n",
        "    out = {}\n",
        "    model.eval()\n",
        "    for split in ['train', 'val']:\n",
        "        losses = torch.zeros(eval_iters)\n",
        "        for k in range(eval_iters):\n",
        "            X, Y = get_batch(split, context_length, batch_size, device)\n",
        "            logits, loss = model(X, Y, Y)\n",
        "            losses[k] = loss.item()\n",
        "        out[split] = losses.mean()\n",
        "    model.train()\n",
        "    return out"
      ],
      "metadata": {
        "id": "RpENeqDwy2WC"
      },
      "execution_count": 36,
      "outputs": []
    },
    {
      "cell_type": "code",
      "source": [
        "@torch.no_grad()\n",
        "def estimate_loss(model):\n",
        "    out = {}\n",
        "    model.eval()\n",
        "    for split in ['train', 'val']:\n",
        "        losses = torch.zeros(eval_iters)\n",
        "        for k in range(eval_iters):\n",
        "            X, Y = get_batch(split, context_length, batch_size, device)\n",
        "            logits, loss = model(X, Y, Y)\n",
        "            losses[k] = loss.item()\n",
        "        out[split] = losses.mean()\n",
        "    model.train()\n",
        "    return out"
      ],
      "metadata": {
        "id": "KiLwUlNczh75"
      },
      "execution_count": 38,
      "outputs": []
    },
    {
      "cell_type": "code",
      "source": [
        "print(sum(p.numel() for p in m.parameters())/1e6, 'M parameters')"
      ],
      "metadata": {
        "colab": {
          "base_uri": "https://localhost:8080/"
        },
        "id": "qLQeZ51VztCO",
        "outputId": "b5c3f281-05ea-4d9b-ff3b-1a319c383b68"
      },
      "execution_count": 34,
      "outputs": [
        {
          "output_type": "stream",
          "name": "stdout",
          "text": [
            "49.701458 M parameters\n"
          ]
        }
      ]
    },
    {
      "cell_type": "code",
      "source": [
        "optimizer = torch.optim.AdamW(model.parameters(), lr=learning_rate)\n",
        "max_iters = 1000\n",
        "for iter in range(max_iters):\n",
        "\n",
        "    # every once in a while evaluate the loss on train and val sets\n",
        "    if iter % eval_interval == 0 or iter == max_iters - 1:\n",
        "        losses = estimate_loss(m)\n",
        "        print(f\"step {iter}: train loss {losses['train']:.4f}, val loss {losses['val']:.4f}\")\n",
        "        # for name, param in model.named_parameters():\n",
        "        #     if param.grad is not None:\n",
        "        #         print(f\"{name} grad norm: {param.grad.norm()}\")\n",
        "        print()\n",
        "    # sample a batch of data\n",
        "    xb, yb = get_batch('train', context_length, batch_size, device)\n",
        "\n",
        "    # evaluate the loss\n",
        "    logits, loss = model(xb, yb, yb)\n",
        "    # print(loss)\n",
        "    optimizer.zero_grad(set_to_none=True)\n",
        "    loss.backward()\n",
        "    # for param in model.parameters():\n",
        "    #   print(param.grad)\n",
        "    optimizer.step()"
      ],
      "metadata": {
        "colab": {
          "base_uri": "https://localhost:8080/"
        },
        "id": "vJpndjMa0ePR",
        "outputId": "7b97e4ce-b223-4484-8ae9-43a166df7fcd"
      },
      "execution_count": 39,
      "outputs": [
        {
          "output_type": "stream",
          "name": "stdout",
          "text": [
            "step 0: train loss 3.9460, val loss 6.0025\n",
            "\n",
            "step 100: train loss 3.7286, val loss 5.9837\n",
            "\n",
            "step 200: train loss 3.6737, val loss 5.6914\n",
            "\n",
            "step 300: train loss 3.6312, val loss 5.6558\n",
            "\n",
            "step 400: train loss 3.6098, val loss 5.8124\n",
            "\n",
            "step 500: train loss 3.6838, val loss 5.6815\n",
            "\n",
            "step 600: train loss 3.5913, val loss 5.7059\n",
            "\n",
            "step 700: train loss 3.5934, val loss 5.6008\n",
            "\n",
            "step 800: train loss 3.5476, val loss 5.7591\n",
            "\n",
            "step 900: train loss 3.5372, val loss 5.6018\n",
            "\n",
            "step 999: train loss 3.5111, val loss 5.5801\n",
            "\n"
          ]
        }
      ]
    },
    {
      "cell_type": "code",
      "source": [],
      "metadata": {
        "id": "fPdgGcgf0j9C"
      },
      "execution_count": null,
      "outputs": []
    },
    {
      "cell_type": "code",
      "source": [],
      "metadata": {
        "id": "zqnjp27n0vHU"
      },
      "execution_count": null,
      "outputs": []
    }
  ]
}