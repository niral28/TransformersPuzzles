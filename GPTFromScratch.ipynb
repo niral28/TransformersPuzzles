{
  "nbformat": 4,
  "nbformat_minor": 0,
  "metadata": {
    "colab": {
      "provenance": [],
      "gpuType": "T4",
      "authorship_tag": "ABX9TyMbFmP46cLa5D7kEE8Lol80",
      "include_colab_link": true
    },
    "kernelspec": {
      "name": "python3",
      "display_name": "Python 3"
    },
    "language_info": {
      "name": "python"
    },
    "accelerator": "GPU"
  },
  "cells": [
    {
      "cell_type": "markdown",
      "metadata": {
        "id": "view-in-github",
        "colab_type": "text"
      },
      "source": [
        "<a href=\"https://colab.research.google.com/github/niral28/TransformersPuzzles/blob/main/GPTFromScratch.ipynb\" target=\"_parent\"><img src=\"https://colab.research.google.com/assets/colab-badge.svg\" alt=\"Open In Colab\"/></a>"
      ]
    },
    {
      "cell_type": "code",
      "execution_count": 1,
      "metadata": {
        "id": "VmflMyovFqVs"
      },
      "outputs": [],
      "source": [
        "import torch\n",
        "import torch.nn as nn"
      ]
    },
    {
      "cell_type": "code",
      "source": [
        "! wget https://raw.githubusercontent.com/karpathy/char-rnn/master/data/tinyshakespeare/input.txt"
      ],
      "metadata": {
        "colab": {
          "base_uri": "https://localhost:8080/"
        },
        "id": "nBpcP3Rls5iw",
        "outputId": "e7b17408-c61d-4cc9-bf74-8b189437b25e"
      },
      "execution_count": 2,
      "outputs": [
        {
          "output_type": "stream",
          "name": "stdout",
          "text": [
            "--2024-12-27 21:34:23--  https://raw.githubusercontent.com/karpathy/char-rnn/master/data/tinyshakespeare/input.txt\n",
            "Resolving raw.githubusercontent.com (raw.githubusercontent.com)... 185.199.108.133, 185.199.109.133, 185.199.110.133, ...\n",
            "Connecting to raw.githubusercontent.com (raw.githubusercontent.com)|185.199.108.133|:443... connected.\n",
            "HTTP request sent, awaiting response... 200 OK\n",
            "Length: 1115394 (1.1M) [text/plain]\n",
            "Saving to: ‘input.txt’\n",
            "\n",
            "input.txt           100%[===================>]   1.06M  --.-KB/s    in 0.008s  \n",
            "\n",
            "2024-12-27 21:34:23 (135 MB/s) - ‘input.txt’ saved [1115394/1115394]\n",
            "\n"
          ]
        }
      ]
    },
    {
      "cell_type": "code",
      "source": [
        "torch.manual_seed(1337)"
      ],
      "metadata": {
        "colab": {
          "base_uri": "https://localhost:8080/"
        },
        "id": "A7QCoDhFtF6e",
        "outputId": "39edaa96-63ae-43d0-dba3-29148f59957f"
      },
      "execution_count": 3,
      "outputs": [
        {
          "output_type": "execute_result",
          "data": {
            "text/plain": [
              "<torch._C.Generator at 0x7df1a0120370>"
            ]
          },
          "metadata": {},
          "execution_count": 3
        }
      ]
    },
    {
      "cell_type": "code",
      "source": [
        "# wget https://raw.githubusercontent.com/karpathy/char-rnn/master/data/tinyshakespeare/input.txt\n",
        "with open('input.txt', 'r', encoding='utf-8') as f:\n",
        "    text = f.read()\n",
        "\n",
        "# here are all the unique characters that occur in this text\n",
        "chars = sorted(list(set(text)))\n",
        "vocab_size = len(chars)\n",
        "# create a mapping from characters to integers\n",
        "stoi = { ch:i for i,ch in enumerate(chars) }\n",
        "itos = { i:ch for i,ch in enumerate(chars) }\n",
        "encode = lambda s: [stoi[c] for c in s] # encoder: take a string, output a list of integers\n",
        "decode = lambda l: ''.join([itos[i] for i in l]) # decoder: take a list of integers, output a string\n",
        "\n",
        "# Train and test splits\n",
        "data = torch.tensor(encode(text), dtype=torch.long)\n",
        "n = int(0.9*len(data)) # first 90% will be train, rest val\n",
        "train_data = data[:n]\n",
        "val_data = data[n:]"
      ],
      "metadata": {
        "id": "4TfpEwqKF3Gq"
      },
      "execution_count": 4,
      "outputs": []
    },
    {
      "cell_type": "code",
      "source": [
        "def get_batch(split: str, context_length:int, batch_size: int, device:str):\n",
        "  data = train_data if split == 'train' else val_data\n",
        "  starting_idx = torch.randint(0, len(data)-context_length, (batch_size,))\n",
        "  x = torch.stack([data[idx:idx+context_length] for idx in starting_idx])\n",
        "  y = torch.stack([data[idx+1:idx+1+context_length] for idx in starting_idx])\n",
        "  x, y = x.to(device), y.to(device)\n",
        "  return x,y"
      ],
      "metadata": {
        "id": "Fqp7NLUptLKh"
      },
      "execution_count": 5,
      "outputs": []
    },
    {
      "cell_type": "code",
      "source": [
        "dropout = 0.2\n",
        "class SelfAttention(nn.Module):\n",
        "  def __init__(self, embedding_dim:int, attention_dim: int):\n",
        "    super().__init__()\n",
        "    self.key_gen = nn.Linear(embedding_dim, attention_dim, bias=False) # Embedding Dim x Attention Dim\n",
        "    self.query_gen = nn.Linear(embedding_dim, attention_dim, bias=False)\n",
        "    self.value_gen = nn.Linear(embedding_dim, attention_dim, bias=False)\n",
        "    self.dropout = nn.Dropout(dropout)\n",
        "\n",
        "  def forward(self, embedded):\n",
        "    K = self.key_gen(embedded) # Batch Size X Context Length X Embedding\n",
        "    Q = self.query_gen(embedded)\n",
        "    V = self.value_gen(embedded)\n",
        "    B,T,C = embedded.shape\n",
        "    scores = Q @ torch.transpose(K, 1, 2) # Batch Size X Context Length X Context Length\n",
        "    # context_length, attention_dim = K.shape[1], K.shape[2] # Assuming Embedding Dim and Attention Dim are the same\n",
        "    scores =  scores * (C**-0.5)\n",
        "    lower_triangular = torch.tril(torch.ones(T, T)) # T x T\n",
        "    lower_triangular = lower_triangular.to(device)\n",
        "    scores = scores.masked_fill(lower_triangular[:T, :T] == 0, float('-inf'))\n",
        "    scores = nn.functional.softmax(scores, dim=-1)\n",
        "    scores = self.dropout(scores)\n",
        "    return scores @ V # Tx A matrix\n",
        "\n",
        "class MultiHeadAttention(nn.Module):\n",
        "  def __init__(self, num_heads: int, embed_size:int, attention_dim: int):\n",
        "    super().__init__()\n",
        "    self.head_size = attention_dim // num_heads\n",
        "    self.heads = nn.ModuleList([SelfAttention(embed_size, self.head_size) for i in range(num_heads)])\n",
        "    self.proj = nn.Linear(embed_size, embed_size)\n",
        "    self.dropout = nn.Dropout(dropout)\n",
        "\n",
        "  def forward(self, embedded):\n",
        "    # Merge all the attention heads\n",
        "    out = torch.cat([self.heads[i](embedded) for i in range(len(self.heads))], dim=-1)\n",
        "    out = self.dropout(self.proj(out))\n",
        "    return out\n",
        "\n",
        "\n",
        "class FeedForwardNetwork(nn.Module):\n",
        "  def __init__(self, embed_size, forward_expansion):\n",
        "    super().__init__()\n",
        "    self.feed_forward = nn.Sequential(\n",
        "        nn.Linear(embed_size, forward_expansion*embed_size),\n",
        "        nn.ReLU(),\n",
        "        nn.Linear(forward_expansion*embed_size, embed_size)\n",
        "    )\n",
        "    self.dropout = nn.Dropout(dropout)\n",
        "\n",
        "  def forward(self, embedding):\n",
        "    return self.dropout(self.feed_forward(embedding))\n",
        "\n",
        "\n",
        "class Transformer(nn.Module):\n",
        "  def __init__(self, model_dim: int, num_heads:int):\n",
        "    super().__init__()\n",
        "    self.masked_multihead_attn = MultiHeadAttention(num_heads, model_dim, model_dim)\n",
        "    # The normal multihead attention (un masked) is only used in the case of an encoder-decoder architecture\n",
        "    #self.multihead_attn = self.MultiHeadAttention(num_heads, model_dim, model_dim, mask=False)\n",
        "    self.norm1 = nn.LayerNorm(model_dim)\n",
        "    #self.norm2 = nn.LayerNorm(model_dim)\n",
        "    self.norm3 = nn.LayerNorm(model_dim)\n",
        "    self.feed_forward = FeedForwardNetwork(model_dim, 4)\n",
        "\n",
        "  def forward(self, embedding):\n",
        "    embedded = embedding + self.masked_multihead_attn(self.norm1(embedding))\n",
        "    #embedded = embedded + self.multihead_attn(self.norm2(embedded))\n",
        "    embedded = embedded + self.feed_forward(self.norm3(embedded))\n",
        "    return embedded\n",
        "\n",
        "\n",
        "class Decoder(nn.Module):\n",
        "  def __init__(self, vocab_size: int, context_length:int, model_dim: int, num_heads: int, num_blocks: int):\n",
        "    super().__init__()\n",
        "    self.context_length = context_length\n",
        "    self.word_embedding = nn.Embedding(vocab_size, model_dim)\n",
        "    self.positional_embedding = nn.Embedding(context_length, model_dim)\n",
        "    self.transformer_block = nn.Sequential(*[\n",
        "        Transformer(num_heads=num_heads, model_dim=model_dim) for _ in range(num_blocks)\n",
        "    ])\n",
        "    self.linear = nn.Linear(model_dim, vocab_size)\n",
        "    self.finalLayerNorm = nn.LayerNorm(model_dim) # this is recommended by researchers as it results in a more stable training\n",
        "\n",
        "  def forward(self, context, targets=None):\n",
        "    T = context.shape[1] # B x T x 1 (tokenized input)\n",
        "    positions = torch.arange(T, device=device) # create a list from 0 -> context length\n",
        "    embedding = self.word_embedding(context)+self.positional_embedding(positions)\n",
        "    output = self.transformer_block(embedding)\n",
        "    logits = self.linear(self.finalLayerNorm(output))\n",
        "    if targets is None:\n",
        "      loss = None\n",
        "    else:\n",
        "      B, T, C = logits.shape\n",
        "      try:\n",
        "        loss = nn.functional.cross_entropy(logits.view(B*T, C), targets.view(B*T))\n",
        "      except Exception as e:\n",
        "        # print(logits.shape)\n",
        "        # print(logits)\n",
        "        raise e\n",
        "    return logits, loss\n",
        "\n",
        "@torch.no_grad()\n",
        "def estimate_loss(model):\n",
        "    out = {}\n",
        "    model.eval()\n",
        "    for split in ['train', 'val']:\n",
        "        losses = torch.zeros(eval_iters)\n",
        "        for k in range(eval_iters):\n",
        "            X, Y = get_batch(split, context_length, batch_size, device)\n",
        "            logits, loss = model(X, Y)\n",
        "            losses[k] = loss.item()\n",
        "        out[split] = losses.mean()\n",
        "    model.train()\n",
        "    return out"
      ],
      "metadata": {
        "id": "tOnieCnSHATq"
      },
      "execution_count": 38,
      "outputs": []
    },
    {
      "cell_type": "code",
      "source": [
        "device = 'cuda' if torch.cuda.is_available() else 'cpu'\n",
        "max_iters = 5000\n",
        "eval_interval = 100\n",
        "learning_rate = 1e-3\n",
        "eval_iters = 200\n",
        "context_length = 64\n",
        "batch_size = 16\n",
        "model_dim = 128\n",
        "num_heads = 8\n",
        "num_blocks = 8\n",
        "\n",
        "model = Decoder(context_length=context_length, vocab_size=len(stoi), model_dim=model_dim, num_heads=num_heads, num_blocks=num_blocks)\n",
        "m = model.to(device)\n",
        "# print the number of parameters in the model\n",
        "print(sum(p.numel() for p in m.parameters())/1e6, 'M parameters')"
      ],
      "metadata": {
        "colab": {
          "base_uri": "https://localhost:8080/"
        },
        "id": "RSqGPLjRKe5Q",
        "outputId": "9629e392-16d7-4b4d-df16-ee384afd72ab"
      },
      "execution_count": 44,
      "outputs": [
        {
          "output_type": "stream",
          "name": "stdout",
          "text": [
            "1.608257 M parameters\n"
          ]
        }
      ]
    },
    {
      "cell_type": "code",
      "source": [],
      "metadata": {
        "id": "yjApouRs9NZF"
      },
      "execution_count": 44,
      "outputs": []
    },
    {
      "cell_type": "code",
      "source": [
        "optimizer = torch.optim.AdamW(model.parameters(), lr=learning_rate)\n",
        "\n",
        "for iter in range(max_iters):\n",
        "\n",
        "    # every once in a while evaluate the loss on train and val sets\n",
        "    if iter % eval_interval == 0 or iter == max_iters - 1:\n",
        "        losses = estimate_loss(m)\n",
        "        print(f\"step {iter}: train loss {losses['train']:.4f}, val loss {losses['val']:.4f}\")\n",
        "        # for name, param in model.named_parameters():\n",
        "        #     if param.grad is not None:\n",
        "        #         print(f\"{name} grad norm: {param.grad.norm()}\")\n",
        "        print()\n",
        "    # sample a batch of data\n",
        "    xb, yb = get_batch('train', context_length, batch_size, device)\n",
        "\n",
        "    # evaluate the loss\n",
        "    logits, loss = model(xb, yb)\n",
        "    # print(loss)\n",
        "    optimizer.zero_grad(set_to_none=True)\n",
        "    loss.backward()\n",
        "    # for param in model.parameters():\n",
        "    #   print(param.grad)\n",
        "    optimizer.step()\n"
      ],
      "metadata": {
        "colab": {
          "base_uri": "https://localhost:8080/"
        },
        "id": "cEb-U-csz0Rj",
        "outputId": "42ac67ab-0ef8-45f5-9959-07c37c932465"
      },
      "execution_count": 45,
      "outputs": [
        {
          "output_type": "stream",
          "name": "stdout",
          "text": [
            "step 0: train loss 4.3821, val loss 4.3845\n",
            "\n",
            "step 100: train loss 2.5277, val loss 2.5241\n",
            "\n",
            "step 200: train loss 2.4419, val loss 2.4385\n",
            "\n",
            "step 300: train loss 2.3572, val loss 2.3688\n",
            "\n",
            "step 400: train loss 2.2714, val loss 2.2875\n",
            "\n",
            "step 500: train loss 2.1925, val loss 2.2176\n",
            "\n",
            "step 600: train loss 2.1276, val loss 2.1609\n",
            "\n",
            "step 700: train loss 2.0725, val loss 2.1163\n",
            "\n",
            "step 800: train loss 2.0085, val loss 2.0629\n",
            "\n",
            "step 900: train loss 1.9676, val loss 2.0328\n",
            "\n",
            "step 1000: train loss 1.9120, val loss 2.0100\n",
            "\n",
            "step 1100: train loss 1.8871, val loss 1.9677\n",
            "\n",
            "step 1200: train loss 1.8527, val loss 1.9527\n",
            "\n",
            "step 1300: train loss 1.8329, val loss 1.9496\n",
            "\n",
            "step 1400: train loss 1.7998, val loss 1.9266\n",
            "\n",
            "step 1500: train loss 1.7791, val loss 1.9050\n",
            "\n",
            "step 1600: train loss 1.7666, val loss 1.9083\n",
            "\n",
            "step 1700: train loss 1.7391, val loss 1.8806\n",
            "\n",
            "step 1800: train loss 1.7314, val loss 1.8711\n",
            "\n",
            "step 1900: train loss 1.7041, val loss 1.8469\n",
            "\n",
            "step 2000: train loss 1.6967, val loss 1.8357\n",
            "\n",
            "step 2100: train loss 1.6769, val loss 1.8314\n",
            "\n",
            "step 2200: train loss 1.6694, val loss 1.8259\n",
            "\n",
            "step 2300: train loss 1.6592, val loss 1.8177\n",
            "\n",
            "step 2400: train loss 1.6390, val loss 1.8017\n",
            "\n",
            "step 2500: train loss 1.6268, val loss 1.7999\n",
            "\n",
            "step 2600: train loss 1.6230, val loss 1.7808\n",
            "\n",
            "step 2700: train loss 1.6199, val loss 1.7844\n",
            "\n",
            "step 2800: train loss 1.6107, val loss 1.7762\n",
            "\n",
            "step 2900: train loss 1.6053, val loss 1.7645\n",
            "\n",
            "step 3000: train loss 1.5904, val loss 1.7629\n",
            "\n",
            "step 3100: train loss 1.5953, val loss 1.7564\n",
            "\n",
            "step 3200: train loss 1.5770, val loss 1.7632\n",
            "\n",
            "step 3300: train loss 1.5618, val loss 1.7395\n",
            "\n",
            "step 3400: train loss 1.5586, val loss 1.7514\n",
            "\n",
            "step 3500: train loss 1.5617, val loss 1.7407\n",
            "\n",
            "step 3600: train loss 1.5517, val loss 1.7370\n",
            "\n",
            "step 3700: train loss 1.5366, val loss 1.7264\n",
            "\n",
            "step 3800: train loss 1.5425, val loss 1.7019\n",
            "\n",
            "step 3900: train loss 1.5393, val loss 1.7193\n",
            "\n",
            "step 4000: train loss 1.5342, val loss 1.7127\n",
            "\n",
            "step 4100: train loss 1.5278, val loss 1.7181\n",
            "\n",
            "step 4200: train loss 1.5271, val loss 1.7049\n",
            "\n",
            "step 4300: train loss 1.5136, val loss 1.7145\n",
            "\n",
            "step 4400: train loss 1.5220, val loss 1.7116\n",
            "\n",
            "step 4500: train loss 1.5123, val loss 1.7040\n",
            "\n",
            "step 4600: train loss 1.5085, val loss 1.6889\n",
            "\n",
            "step 4700: train loss 1.4986, val loss 1.6892\n",
            "\n",
            "step 4800: train loss 1.4985, val loss 1.6898\n",
            "\n",
            "step 4900: train loss 1.4921, val loss 1.6736\n",
            "\n",
            "step 4999: train loss 1.4877, val loss 1.6755\n",
            "\n"
          ]
        }
      ]
    },
    {
      "cell_type": "code",
      "source": [
        "def generate(m, idx, max_new_tokens):\n",
        "    # idx is (B, T) array of indices in the current context\n",
        "    for _ in range(max_new_tokens):\n",
        "        # crop idx to the last block_size tokens\n",
        "        idx_cond = idx[:, -context_length:]\n",
        "        # get the predictions\n",
        "        logits, loss = m(idx_cond)\n",
        "        # focus only on the last time step\n",
        "        logits = logits[:, -1, :] # becomes (B, C)\n",
        "        # apply softmax to get probabilities\n",
        "        probs = nn.functional.softmax(logits, dim=-1) # (B, C)\n",
        "        # sample from the distribution\n",
        "        idx_next = torch.multinomial(probs, num_samples=1) # (B, 1)\n",
        "        # append sampled index to the running sequence\n",
        "        idx = torch.cat((idx, idx_next), dim=1) # (B, T+1)\n",
        "    return idx\n"
      ],
      "metadata": {
        "id": "AuF8cDev2AWY"
      },
      "execution_count": 46,
      "outputs": []
    },
    {
      "cell_type": "code",
      "source": [
        "def generate(model, context, max_new_tokens):\n",
        "  generator = torch.manual_seed(1337)\n",
        "  initial_state = generator.get_state()\n",
        "  res = ['']\n",
        "  for _ in range(max_new_tokens):\n",
        "    context = context[:, -context_length:]\n",
        "    logits, loss = model(context) # B x T x Vocab Size\n",
        "    probabilities = nn.functional.softmax(logits[:, -1, :], dim=-1)\n",
        "    next_char = torch.multinomial(probabilities, num_samples=1)\n",
        "    context = torch.cat((context, next_char), dim=-1)\n",
        "    res.append(itos[next_char.item()])\n",
        "  return ''.join(res)"
      ],
      "metadata": {
        "id": "3dyEUDcgA1T6"
      },
      "execution_count": 47,
      "outputs": []
    },
    {
      "cell_type": "code",
      "source": [
        "# generate from the model\n",
        "context = torch.zeros((1, 1), dtype=torch.long, device=device)\n",
        "print(generate(m,context, max_new_tokens=2000))"
      ],
      "metadata": {
        "colab": {
          "base_uri": "https://localhost:8080/"
        },
        "id": "25ITGrQyCg5z",
        "outputId": "1027314e-22a9-451c-cfa5-d7963e860787"
      },
      "execution_count": 48,
      "outputs": [
        {
          "output_type": "stream",
          "name": "stdout",
          "text": [
            "\n",
            "SICINIUS:\n",
            "Me if enriarth, her well\n",
            "Toice what I wonvions that I mothing distrared,\n",
            "That are Cluition, my Volverian's\n",
            "Putheace? is exadement have made to is my read\n",
            "As four should to the sest.\n",
            "The bist of heaven here, being, and not of yours.\n",
            "\n",
            "AMILYCUS:\n",
            "I'll do this may derevis\n",
            "Exetter thyself to-mance summedis wait his despince wit.\n",
            "\n",
            "VIReIENIA:\n",
            "Would not replaint, full him him\n",
            "On.\n",
            "Pray, in lePt, with the mell was anot!\n",
            "\n",
            "COMILLONIUS:\n",
            "What's it ned thou marche dove;\n",
            "What then on true least up this name he of the braign.\n",
            "Where will not night stip of bo the bear me twine.\n",
            "\n",
            "BENVOLIOLIO:\n",
            "I tage! ime it men\n",
            "Mean of one see in thousabn: way, I tender this?\n",
            "Henry, nor curse, my law will.\n",
            "\n",
            "AUTOMPELY:\n",
            "So mereiIGt shame berace's in switne hand\n",
            "Onless of your of surse!---'\n",
            "\n",
            "RIVERS:\n",
            "I wound in like tempt that; whwat, and hath infixe you\n",
            "Do swant a was in sins the kind's fail'd?\n",
            "\n",
            "Second Cabtit's-grain, loves,\n",
            "O, but for help's; he will I there to my have\n",
            "To rirslime many have that falmh thand knowr\n",
            "Myself. thousable that e'lder sound should right\n",
            "The body hight but and our to night;\n",
            "Than Rail tongue their upon but, taids, my as\n",
            "As tall farry'st maid,swife, speak giveed o'\n",
            "Mile actainned should bancaeving.\n",
            "Sorrow his.\n",
            "\n",
            "Clown:\n",
            "I your till shouth shalt more paster sue\n",
            "Doth our ca's her. You shire read\n",
            "In the Lost air; all are it: art your poucloagion,\n",
            "Again; accest thou thee wraing deathss which to such entorth\n",
            "Feavy to resper the requir\n",
            "May son water shall till friend bage,\n",
            "But of the fatheing's gentle repose quow' may\n",
            "And did beger.\n",
            "\n",
            "PETERINA:\n",
            "They field, sphoe I the rame.\n",
            "O, thou harmen child's so? thy night--Firs\n",
            "And this'e polle man handsted in they right\n",
            "As and crethending viction, and fing,\n",
            "I no know respecured; by yeared; lengt\n",
            "And they neer had they thou schand my leather.\n",
            "\n",
            "ELBOW:F Good sir, therey?\n",
            "\n",
            "First Ladvingman:\n",
            "Near.\n",
            "\n",
            "HESTRUMBELLO:\n",
            "Ay, las, faught, at I seeven stabre the glood.\n",
            "\n",
            "HENONIUS:\n",
            "O would lording,\n",
            "Where i's givanced, catish me thou haste:\n",
            "Ay, stea chick and y\n"
          ]
        }
      ]
    },
    {
      "cell_type": "code",
      "source": [
        "# generate from the model\n",
        "context = torch.zeros((1, 1), dtype=torch.long, device=device)\n",
        "print(decode(generate(m, context, max_new_tokens=2000)[0].tolist()))"
      ],
      "metadata": {
        "id": "rpPlLMGkDp93"
      },
      "execution_count": 10,
      "outputs": []
    },
    {
      "cell_type": "code",
      "source": [],
      "metadata": {
        "id": "vnqkKOWPGHhz"
      },
      "execution_count": 10,
      "outputs": []
    },
    {
      "cell_type": "code",
      "source": [],
      "metadata": {
        "id": "4rkAIR3QGIrJ"
      },
      "execution_count": 10,
      "outputs": []
    },
    {
      "cell_type": "code",
      "source": [],
      "metadata": {
        "id": "ey0elqJ8GJir"
      },
      "execution_count": 10,
      "outputs": []
    },
    {
      "cell_type": "code",
      "source": [],
      "metadata": {
        "id": "9Jm6nAQAGLg4"
      },
      "execution_count": 10,
      "outputs": []
    },
    {
      "cell_type": "code",
      "source": [],
      "metadata": {
        "id": "BpEopsd5GL2V"
      },
      "execution_count": 10,
      "outputs": []
    },
    {
      "cell_type": "code",
      "source": [],
      "metadata": {
        "id": "jiq_3ZH0GNrk"
      },
      "execution_count": 10,
      "outputs": []
    }
  ]
}